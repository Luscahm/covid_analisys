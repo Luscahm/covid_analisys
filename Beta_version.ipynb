{
 "cells": [
  {
   "cell_type": "code",
   "execution_count": 2,
   "metadata": {},
   "outputs": [
    {
     "ename": "SyntaxError",
     "evalue": "invalid syntax (<ipython-input-2-566a839aae0b>, line 1)",
     "output_type": "error",
     "traceback": [
      "\u001b[1;36m  File \u001b[1;32m\"<ipython-input-2-566a839aae0b>\"\u001b[1;36m, line \u001b[1;32m1\u001b[0m\n\u001b[1;33m    jupyter notebook \\\u001b[0m\n\u001b[1;37m                   ^\u001b[0m\n\u001b[1;31mSyntaxError\u001b[0m\u001b[1;31m:\u001b[0m invalid syntax\n"
     ]
    }
   ],
   "source": [
    "jupyter notebook \\\n",
    "  --NotebookApp.allow_origin='https://colab.research.google.com' \\\n",
    "  --port=8888 \\\n",
    "  --NotebookApp.port_retries=0"
   ]
  },
  {
   "cell_type": "code",
   "execution_count": 3,
   "metadata": {},
   "outputs": [
    {
     "name": "stderr",
     "output_type": "stream",
     "text": [
      "Using TensorFlow backend.\n"
     ]
    }
   ],
   "source": [
    "import datetime\n",
    "import numpy as np\n",
    "import pandas as pd\n",
    "import matplotlib.pyplot as plt\n",
    "import tensorflow as tf\n",
    "\n",
    "from tensorflow import keras\n",
    "from tensorflow.keras import layers\n",
    "from keras.models import Sequential\n",
    "from keras.layers import Dense\n",
    "from keras.utils import plot_model\n",
    "\n",
    "from sklearn.model_selection import RandomizedSearchCV, GridSearchCV\n",
    "from sklearn.svm import SVR\n",
    "from sklearn.metrics import mean_squared_error, mean_absolute_error\n",
    "\n",
    "\n",
    "plt.style.use('seaborn-darkgrid')"
   ]
  },
  {
   "cell_type": "code",
   "execution_count": 2,
   "metadata": {},
   "outputs": [],
   "source": [
    "# mudar essa variavel conforme o tanto de dias a frente que quer a previsão\n",
    "futuro = 36"
   ]
  },
  {
   "cell_type": "code",
   "execution_count": 26,
   "metadata": {},
   "outputs": [],
   "source": [
    "url = \"https://raw.githubusercontent.com/CSSEGISandData/COVID-19/master/csse_covid_19_data/csse_covid_19_time_series/time_series_covid19_confirmed_global.csv\"\n",
    "#url = \"https://raw.githubusercontent.com/CSSEGISandData/COVID-19/master/csse_covid_19_data/csse_covid_19_time_series/time_series_covid19_deaths_global.csv\"\n",
    "df = pd.read_csv(url)"
   ]
  },
  {
   "cell_type": "code",
   "execution_count": 27,
   "metadata": {},
   "outputs": [
    {
     "data": {
      "text/html": [
       "<div>\n",
       "<style scoped>\n",
       "    .dataframe tbody tr th:only-of-type {\n",
       "        vertical-align: middle;\n",
       "    }\n",
       "\n",
       "    .dataframe tbody tr th {\n",
       "        vertical-align: top;\n",
       "    }\n",
       "\n",
       "    .dataframe thead th {\n",
       "        text-align: right;\n",
       "    }\n",
       "</style>\n",
       "<table border=\"1\" class=\"dataframe\">\n",
       "  <thead>\n",
       "    <tr style=\"text-align: right;\">\n",
       "      <th></th>\n",
       "      <th>Province/State</th>\n",
       "      <th>Country/Region</th>\n",
       "      <th>Lat</th>\n",
       "      <th>Long</th>\n",
       "      <th>1/22/20</th>\n",
       "      <th>1/23/20</th>\n",
       "      <th>1/24/20</th>\n",
       "      <th>1/25/20</th>\n",
       "      <th>1/26/20</th>\n",
       "      <th>1/27/20</th>\n",
       "      <th>...</th>\n",
       "      <th>3/31/20</th>\n",
       "      <th>4/1/20</th>\n",
       "      <th>4/2/20</th>\n",
       "      <th>4/3/20</th>\n",
       "      <th>4/4/20</th>\n",
       "      <th>4/5/20</th>\n",
       "      <th>4/6/20</th>\n",
       "      <th>4/7/20</th>\n",
       "      <th>4/8/20</th>\n",
       "      <th>4/9/20</th>\n",
       "    </tr>\n",
       "  </thead>\n",
       "  <tbody>\n",
       "    <tr>\n",
       "      <th>0</th>\n",
       "      <td>NaN</td>\n",
       "      <td>Afghanistan</td>\n",
       "      <td>33.0000</td>\n",
       "      <td>65.0000</td>\n",
       "      <td>0</td>\n",
       "      <td>0</td>\n",
       "      <td>0</td>\n",
       "      <td>0</td>\n",
       "      <td>0</td>\n",
       "      <td>0</td>\n",
       "      <td>...</td>\n",
       "      <td>174</td>\n",
       "      <td>237</td>\n",
       "      <td>273</td>\n",
       "      <td>281</td>\n",
       "      <td>299</td>\n",
       "      <td>349</td>\n",
       "      <td>367</td>\n",
       "      <td>423</td>\n",
       "      <td>444</td>\n",
       "      <td>484</td>\n",
       "    </tr>\n",
       "    <tr>\n",
       "      <th>1</th>\n",
       "      <td>NaN</td>\n",
       "      <td>Albania</td>\n",
       "      <td>41.1533</td>\n",
       "      <td>20.1683</td>\n",
       "      <td>0</td>\n",
       "      <td>0</td>\n",
       "      <td>0</td>\n",
       "      <td>0</td>\n",
       "      <td>0</td>\n",
       "      <td>0</td>\n",
       "      <td>...</td>\n",
       "      <td>243</td>\n",
       "      <td>259</td>\n",
       "      <td>277</td>\n",
       "      <td>304</td>\n",
       "      <td>333</td>\n",
       "      <td>361</td>\n",
       "      <td>377</td>\n",
       "      <td>383</td>\n",
       "      <td>400</td>\n",
       "      <td>409</td>\n",
       "    </tr>\n",
       "    <tr>\n",
       "      <th>2</th>\n",
       "      <td>NaN</td>\n",
       "      <td>Algeria</td>\n",
       "      <td>28.0339</td>\n",
       "      <td>1.6596</td>\n",
       "      <td>0</td>\n",
       "      <td>0</td>\n",
       "      <td>0</td>\n",
       "      <td>0</td>\n",
       "      <td>0</td>\n",
       "      <td>0</td>\n",
       "      <td>...</td>\n",
       "      <td>716</td>\n",
       "      <td>847</td>\n",
       "      <td>986</td>\n",
       "      <td>1171</td>\n",
       "      <td>1251</td>\n",
       "      <td>1320</td>\n",
       "      <td>1423</td>\n",
       "      <td>1468</td>\n",
       "      <td>1572</td>\n",
       "      <td>1666</td>\n",
       "    </tr>\n",
       "    <tr>\n",
       "      <th>3</th>\n",
       "      <td>NaN</td>\n",
       "      <td>Andorra</td>\n",
       "      <td>42.5063</td>\n",
       "      <td>1.5218</td>\n",
       "      <td>0</td>\n",
       "      <td>0</td>\n",
       "      <td>0</td>\n",
       "      <td>0</td>\n",
       "      <td>0</td>\n",
       "      <td>0</td>\n",
       "      <td>...</td>\n",
       "      <td>376</td>\n",
       "      <td>390</td>\n",
       "      <td>428</td>\n",
       "      <td>439</td>\n",
       "      <td>466</td>\n",
       "      <td>501</td>\n",
       "      <td>525</td>\n",
       "      <td>545</td>\n",
       "      <td>564</td>\n",
       "      <td>583</td>\n",
       "    </tr>\n",
       "    <tr>\n",
       "      <th>4</th>\n",
       "      <td>NaN</td>\n",
       "      <td>Angola</td>\n",
       "      <td>-11.2027</td>\n",
       "      <td>17.8739</td>\n",
       "      <td>0</td>\n",
       "      <td>0</td>\n",
       "      <td>0</td>\n",
       "      <td>0</td>\n",
       "      <td>0</td>\n",
       "      <td>0</td>\n",
       "      <td>...</td>\n",
       "      <td>7</td>\n",
       "      <td>8</td>\n",
       "      <td>8</td>\n",
       "      <td>8</td>\n",
       "      <td>10</td>\n",
       "      <td>14</td>\n",
       "      <td>16</td>\n",
       "      <td>17</td>\n",
       "      <td>19</td>\n",
       "      <td>19</td>\n",
       "    </tr>\n",
       "  </tbody>\n",
       "</table>\n",
       "<p>5 rows × 83 columns</p>\n",
       "</div>"
      ],
      "text/plain": [
       "  Province/State Country/Region      Lat     Long  1/22/20  1/23/20  1/24/20  \\\n",
       "0            NaN    Afghanistan  33.0000  65.0000        0        0        0   \n",
       "1            NaN        Albania  41.1533  20.1683        0        0        0   \n",
       "2            NaN        Algeria  28.0339   1.6596        0        0        0   \n",
       "3            NaN        Andorra  42.5063   1.5218        0        0        0   \n",
       "4            NaN         Angola -11.2027  17.8739        0        0        0   \n",
       "\n",
       "   1/25/20  1/26/20  1/27/20  ...  3/31/20  4/1/20  4/2/20  4/3/20  4/4/20  \\\n",
       "0        0        0        0  ...      174     237     273     281     299   \n",
       "1        0        0        0  ...      243     259     277     304     333   \n",
       "2        0        0        0  ...      716     847     986    1171    1251   \n",
       "3        0        0        0  ...      376     390     428     439     466   \n",
       "4        0        0        0  ...        7       8       8       8      10   \n",
       "\n",
       "   4/5/20  4/6/20  4/7/20  4/8/20  4/9/20  \n",
       "0     349     367     423     444     484  \n",
       "1     361     377     383     400     409  \n",
       "2    1320    1423    1468    1572    1666  \n",
       "3     501     525     545     564     583  \n",
       "4      14      16      17      19      19  \n",
       "\n",
       "[5 rows x 83 columns]"
      ]
     },
     "execution_count": 27,
     "metadata": {},
     "output_type": "execute_result"
    }
   ],
   "source": [
    "df.head()"
   ]
  },
  {
   "cell_type": "code",
   "execution_count": 28,
   "metadata": {},
   "outputs": [],
   "source": [
    "df = df.loc[df['Country/Region'] == 'Brazil'].copy() # queremos previsões apenas para o Brazil"
   ]
  },
  {
   "cell_type": "code",
   "execution_count": 6,
   "metadata": {},
   "outputs": [
    {
     "data": {
      "text/html": [
       "<div>\n",
       "<style scoped>\n",
       "    .dataframe tbody tr th:only-of-type {\n",
       "        vertical-align: middle;\n",
       "    }\n",
       "\n",
       "    .dataframe tbody tr th {\n",
       "        vertical-align: top;\n",
       "    }\n",
       "\n",
       "    .dataframe thead th {\n",
       "        text-align: right;\n",
       "    }\n",
       "</style>\n",
       "<table border=\"1\" class=\"dataframe\">\n",
       "  <thead>\n",
       "    <tr style=\"text-align: right;\">\n",
       "      <th></th>\n",
       "      <th>Province/State</th>\n",
       "      <th>Country/Region</th>\n",
       "      <th>Lat</th>\n",
       "      <th>Long</th>\n",
       "      <th>1/22/20</th>\n",
       "      <th>1/23/20</th>\n",
       "      <th>1/24/20</th>\n",
       "      <th>1/25/20</th>\n",
       "      <th>1/26/20</th>\n",
       "      <th>1/27/20</th>\n",
       "      <th>...</th>\n",
       "      <th>3/31/20</th>\n",
       "      <th>4/1/20</th>\n",
       "      <th>4/2/20</th>\n",
       "      <th>4/3/20</th>\n",
       "      <th>4/4/20</th>\n",
       "      <th>4/5/20</th>\n",
       "      <th>4/6/20</th>\n",
       "      <th>4/7/20</th>\n",
       "      <th>4/8/20</th>\n",
       "      <th>4/9/20</th>\n",
       "    </tr>\n",
       "  </thead>\n",
       "  <tbody>\n",
       "    <tr>\n",
       "      <th>28</th>\n",
       "      <td>NaN</td>\n",
       "      <td>Brazil</td>\n",
       "      <td>-14.235</td>\n",
       "      <td>-51.9253</td>\n",
       "      <td>0</td>\n",
       "      <td>0</td>\n",
       "      <td>0</td>\n",
       "      <td>0</td>\n",
       "      <td>0</td>\n",
       "      <td>0</td>\n",
       "      <td>...</td>\n",
       "      <td>201</td>\n",
       "      <td>240</td>\n",
       "      <td>324</td>\n",
       "      <td>359</td>\n",
       "      <td>445</td>\n",
       "      <td>486</td>\n",
       "      <td>564</td>\n",
       "      <td>686</td>\n",
       "      <td>819</td>\n",
       "      <td>950</td>\n",
       "    </tr>\n",
       "  </tbody>\n",
       "</table>\n",
       "<p>1 rows × 83 columns</p>\n",
       "</div>"
      ],
      "text/plain": [
       "   Province/State Country/Region     Lat     Long  1/22/20  1/23/20  1/24/20  \\\n",
       "28            NaN         Brazil -14.235 -51.9253        0        0        0   \n",
       "\n",
       "    1/25/20  1/26/20  1/27/20  ...  3/31/20  4/1/20  4/2/20  4/3/20  4/4/20  \\\n",
       "28        0        0        0  ...      201     240     324     359     445   \n",
       "\n",
       "    4/5/20  4/6/20  4/7/20  4/8/20  4/9/20  \n",
       "28     486     564     686     819     950  \n",
       "\n",
       "[1 rows x 83 columns]"
      ]
     },
     "execution_count": 6,
     "metadata": {},
     "output_type": "execute_result"
    }
   ],
   "source": [
    "df.head()"
   ]
  },
  {
   "cell_type": "code",
   "execution_count": 81,
   "metadata": {},
   "outputs": [],
   "source": [
    "df.drop('Province/State', axis = 1, inplace = True)\n",
    "df.drop('Lat', axis = 1, inplace = True)\n",
    "df.drop('Long', axis = 1, inplace = True)\n",
    "df.drop('Country/Region', axis = 1, inplace = True)"
   ]
  },
  {
   "cell_type": "code",
   "execution_count": 29,
   "metadata": {},
   "outputs": [],
   "source": [
    "df = df.iloc[:,36:]"
   ]
  },
  {
   "cell_type": "code",
   "execution_count": 8,
   "metadata": {},
   "outputs": [],
   "source": [
    "index = list(df.columns.values) \n",
    "casos = []\n",
    "for i in index:\n",
    "    confirmados = df[i].sum()\n",
    "    casos.append(confirmados)"
   ]
  },
  {
   "cell_type": "code",
   "execution_count": 9,
   "metadata": {},
   "outputs": [],
   "source": [
    "dias = np.array([i for i in range(len(index))]).reshape(-1, 1)"
   ]
  },
  {
   "cell_type": "code",
   "execution_count": 10,
   "metadata": {},
   "outputs": [
    {
     "data": {
      "text/plain": [
       "array([[ 0],\n",
       "       [ 1],\n",
       "       [ 2],\n",
       "       [ 3],\n",
       "       [ 4],\n",
       "       [ 5],\n",
       "       [ 6],\n",
       "       [ 7],\n",
       "       [ 8],\n",
       "       [ 9],\n",
       "       [10],\n",
       "       [11],\n",
       "       [12],\n",
       "       [13],\n",
       "       [14],\n",
       "       [15],\n",
       "       [16],\n",
       "       [17],\n",
       "       [18],\n",
       "       [19],\n",
       "       [20],\n",
       "       [21],\n",
       "       [22],\n",
       "       [23],\n",
       "       [24],\n",
       "       [25],\n",
       "       [26],\n",
       "       [27],\n",
       "       [28],\n",
       "       [29],\n",
       "       [30],\n",
       "       [31],\n",
       "       [32],\n",
       "       [33],\n",
       "       [34],\n",
       "       [35],\n",
       "       [36],\n",
       "       [37],\n",
       "       [38],\n",
       "       [39],\n",
       "       [40],\n",
       "       [41],\n",
       "       [42],\n",
       "       [43],\n",
       "       [44],\n",
       "       [45],\n",
       "       [46]])"
      ]
     },
     "execution_count": 10,
     "metadata": {},
     "output_type": "execute_result"
    }
   ],
   "source": [
    "dias"
   ]
  },
  {
   "cell_type": "code",
   "execution_count": 11,
   "metadata": {},
   "outputs": [],
   "source": [
    "dias_futuro = np.array([i for i in range(len(index) + futuro)]).reshape(-1, 1)"
   ]
  },
  {
   "cell_type": "code",
   "execution_count": 12,
   "metadata": {},
   "outputs": [],
   "source": [
    "start = '2/27/20'\n",
    "start_date = datetime.datetime.strptime(start,\"%m/%d/%y\")\n",
    "datas_futuras = []\n",
    "for i in range(len(dias_futuro)):\n",
    "    datas_futuras.append((start_date + datetime.timedelta(days=i)).strftime('%m/%d/%y'))"
   ]
  },
  {
   "cell_type": "code",
   "execution_count": 13,
   "metadata": {},
   "outputs": [
    {
     "data": {
      "text/plain": [
       "['02/27/20',\n",
       " '02/28/20',\n",
       " '02/29/20',\n",
       " '03/01/20',\n",
       " '03/02/20',\n",
       " '03/03/20',\n",
       " '03/04/20',\n",
       " '03/05/20',\n",
       " '03/06/20',\n",
       " '03/07/20',\n",
       " '03/08/20',\n",
       " '03/09/20',\n",
       " '03/10/20',\n",
       " '03/11/20',\n",
       " '03/12/20',\n",
       " '03/13/20',\n",
       " '03/14/20',\n",
       " '03/15/20',\n",
       " '03/16/20',\n",
       " '03/17/20',\n",
       " '03/18/20',\n",
       " '03/19/20',\n",
       " '03/20/20',\n",
       " '03/21/20',\n",
       " '03/22/20',\n",
       " '03/23/20',\n",
       " '03/24/20',\n",
       " '03/25/20',\n",
       " '03/26/20',\n",
       " '03/27/20',\n",
       " '03/28/20',\n",
       " '03/29/20',\n",
       " '03/30/20',\n",
       " '03/31/20',\n",
       " '04/01/20',\n",
       " '04/02/20',\n",
       " '04/03/20',\n",
       " '04/04/20',\n",
       " '04/05/20',\n",
       " '04/06/20',\n",
       " '04/07/20',\n",
       " '04/08/20',\n",
       " '04/09/20',\n",
       " '04/10/20',\n",
       " '04/11/20',\n",
       " '04/12/20',\n",
       " '04/13/20',\n",
       " '04/14/20',\n",
       " '04/15/20',\n",
       " '04/16/20',\n",
       " '04/17/20',\n",
       " '04/18/20',\n",
       " '04/19/20',\n",
       " '04/20/20',\n",
       " '04/21/20',\n",
       " '04/22/20',\n",
       " '04/23/20',\n",
       " '04/24/20',\n",
       " '04/25/20',\n",
       " '04/26/20',\n",
       " '04/27/20',\n",
       " '04/28/20',\n",
       " '04/29/20',\n",
       " '04/30/20',\n",
       " '05/01/20',\n",
       " '05/02/20',\n",
       " '05/03/20',\n",
       " '05/04/20',\n",
       " '05/05/20',\n",
       " '05/06/20',\n",
       " '05/07/20',\n",
       " '05/08/20',\n",
       " '05/09/20',\n",
       " '05/10/20',\n",
       " '05/11/20',\n",
       " '05/12/20',\n",
       " '05/13/20',\n",
       " '05/14/20',\n",
       " '05/15/20',\n",
       " '05/16/20',\n",
       " '05/17/20',\n",
       " '05/18/20',\n",
       " '05/19/20']"
      ]
     },
     "execution_count": 13,
     "metadata": {},
     "output_type": "execute_result"
    }
   ],
   "source": [
    "datas_futuras"
   ]
  },
  {
   "cell_type": "code",
   "execution_count": 30,
   "metadata": {},
   "outputs": [
    {
     "data": {
      "text/html": [
       "<div>\n",
       "<style scoped>\n",
       "    .dataframe tbody tr th:only-of-type {\n",
       "        vertical-align: middle;\n",
       "    }\n",
       "\n",
       "    .dataframe tbody tr th {\n",
       "        vertical-align: top;\n",
       "    }\n",
       "\n",
       "    .dataframe thead th {\n",
       "        text-align: right;\n",
       "    }\n",
       "</style>\n",
       "<table border=\"1\" class=\"dataframe\">\n",
       "  <thead>\n",
       "    <tr style=\"text-align: right;\">\n",
       "      <th></th>\n",
       "      <th>28</th>\n",
       "      <th>dates</th>\n",
       "    </tr>\n",
       "  </thead>\n",
       "  <tbody>\n",
       "    <tr>\n",
       "      <th>2/23/20</th>\n",
       "      <td>0</td>\n",
       "      <td>2/23/20</td>\n",
       "    </tr>\n",
       "    <tr>\n",
       "      <th>2/24/20</th>\n",
       "      <td>0</td>\n",
       "      <td>2/24/20</td>\n",
       "    </tr>\n",
       "    <tr>\n",
       "      <th>2/25/20</th>\n",
       "      <td>0</td>\n",
       "      <td>2/25/20</td>\n",
       "    </tr>\n",
       "    <tr>\n",
       "      <th>2/26/20</th>\n",
       "      <td>1</td>\n",
       "      <td>2/26/20</td>\n",
       "    </tr>\n",
       "    <tr>\n",
       "      <th>2/27/20</th>\n",
       "      <td>1</td>\n",
       "      <td>2/27/20</td>\n",
       "    </tr>\n",
       "  </tbody>\n",
       "</table>\n",
       "</div>"
      ],
      "text/plain": [
       "         28    dates\n",
       "2/23/20   0  2/23/20\n",
       "2/24/20   0  2/24/20\n",
       "2/25/20   0  2/25/20\n",
       "2/26/20   1  2/26/20\n",
       "2/27/20   1  2/27/20"
      ]
     },
     "execution_count": 30,
     "metadata": {},
     "output_type": "execute_result"
    }
   ],
   "source": [
    "df = df.T\n",
    "df['dates'] = index\n",
    "new_index = [x for x in range(len(index))]\n",
    "df.head()"
   ]
  },
  {
   "cell_type": "code",
   "execution_count": 31,
   "metadata": {},
   "outputs": [],
   "source": [
    "df['index'] = new_index\n",
    "df = df.set_index('index')\n",
    "df.rename(columns={28:'cases',\n",
    "                   'dates':'dates'}, \n",
    "                 inplace=True)\n",
    "df.index.name = None\n",
    "df['dates'] = dias"
   ]
  },
  {
   "cell_type": "code",
   "execution_count": 18,
   "metadata": {},
   "outputs": [
    {
     "data": {
      "text/html": [
       "<div>\n",
       "<style scoped>\n",
       "    .dataframe tbody tr th:only-of-type {\n",
       "        vertical-align: middle;\n",
       "    }\n",
       "\n",
       "    .dataframe tbody tr th {\n",
       "        vertical-align: top;\n",
       "    }\n",
       "\n",
       "    .dataframe thead th {\n",
       "        text-align: right;\n",
       "    }\n",
       "</style>\n",
       "<table border=\"1\" class=\"dataframe\">\n",
       "  <thead>\n",
       "    <tr style=\"text-align: right;\">\n",
       "      <th></th>\n",
       "      <th>cases</th>\n",
       "      <th>dates</th>\n",
       "    </tr>\n",
       "  </thead>\n",
       "  <tbody>\n",
       "    <tr>\n",
       "      <th>0</th>\n",
       "      <td>0</td>\n",
       "      <td>0</td>\n",
       "    </tr>\n",
       "    <tr>\n",
       "      <th>1</th>\n",
       "      <td>0</td>\n",
       "      <td>1</td>\n",
       "    </tr>\n",
       "    <tr>\n",
       "      <th>2</th>\n",
       "      <td>0</td>\n",
       "      <td>2</td>\n",
       "    </tr>\n",
       "    <tr>\n",
       "      <th>3</th>\n",
       "      <td>0</td>\n",
       "      <td>3</td>\n",
       "    </tr>\n",
       "    <tr>\n",
       "      <th>4</th>\n",
       "      <td>0</td>\n",
       "      <td>4</td>\n",
       "    </tr>\n",
       "  </tbody>\n",
       "</table>\n",
       "</div>"
      ],
      "text/plain": [
       "   cases  dates\n",
       "0      0      0\n",
       "1      0      1\n",
       "2      0      2\n",
       "3      0      3\n",
       "4      0      4"
      ]
     },
     "execution_count": 18,
     "metadata": {},
     "output_type": "execute_result"
    }
   ],
   "source": [
    "df.head()"
   ]
  },
  {
   "cell_type": "code",
   "execution_count": 32,
   "metadata": {},
   "outputs": [],
   "source": [
    "target = df['cases'].copy()\n",
    "df.drop('cases', axis = 1, inplace = True)"
   ]
  },
  {
   "cell_type": "code",
   "execution_count": 33,
   "metadata": {},
   "outputs": [],
   "source": [
    "from sklearn.model_selection import train_test_split\n",
    "X_train, X_test, y_train, y_test = train_test_split(df, target, test_size=0.1, random_state=42)"
   ]
  },
  {
   "cell_type": "code",
   "execution_count": 35,
   "metadata": {},
   "outputs": [
    {
     "name": "stdout",
     "output_type": "stream",
     "text": [
      "Fitting 10 folds for each of 1 candidates, totalling 10 fits\n"
     ]
    },
    {
     "name": "stderr",
     "output_type": "stream",
     "text": [
      "[Parallel(n_jobs=-1)]: Using backend LokyBackend with 8 concurrent workers.\n",
      "[Parallel(n_jobs=-1)]: Done   6 out of  10 | elapsed:  1.1min remaining:   42.1s\n",
      "[Parallel(n_jobs=-1)]: Done  10 out of  10 | elapsed:  3.0min finished\n"
     ]
    },
    {
     "data": {
      "text/plain": [
       "GridSearchCV(cv=10, error_score=nan,\n",
       "             estimator=SVR(C=1.0, cache_size=200, coef0=0.0, degree=3,\n",
       "                           epsilon=0.1, gamma='scale', kernel='rbf',\n",
       "                           max_iter=-1, shrinking=True, tol=0.001,\n",
       "                           verbose=False),\n",
       "             iid='deprecated', n_jobs=-1,\n",
       "             param_grid={'C': [2], 'coef0': [3.5], 'epsilon': [0.001],\n",
       "                         'gamma': [0.5], 'kernel': ['poly'], 'max_iter': [-1],\n",
       "                         'shrinking': [False]},\n",
       "             pre_dispatch='2*n_jobs', refit=True, return_train_score=False,\n",
       "             scoring='neg_mean_absolute_error', verbose=1)"
      ]
     },
     "execution_count": 35,
     "metadata": {},
     "output_type": "execute_result"
    }
   ],
   "source": [
    "#params = {'C':[1, 2, 3, 10], 'shrinking':[True, False], 'epsilon':[0.001, 0.01, 0.1, 1], 'max_iter': [-1]\n",
    "         #,'gamma':['scale', 'auto', 0.01, 0.5, 0.1, 0.5, 1],'kernel':['linear', 'poly', 'rbf', 'sigmoid'], \n",
    "          #'coef0':[0.0, 0.5, 1.0, 1.5, 2.0, 3.0, 4.0]}\n",
    "        \n",
    "params = {'C': [2],\n",
    " 'coef0': [3.5],\n",
    " 'epsilon': [0.001],\n",
    " 'gamma': [0.5],\n",
    " 'kernel': ['poly'],\n",
    " 'max_iter': [-1],\n",
    " 'shrinking': [False]}\n",
    "cv=[(slice(None), slice(None))]\n",
    "svr = SVR()\n",
    "svm = GridSearchCV(svr, params,scoring='neg_mean_absolute_error', cv=10 ,return_train_score=False, n_jobs=-1, verbose=1 )\n",
    "svm.fit(X_train,y_train)"
   ]
  },
  {
   "cell_type": "code",
   "execution_count": 36,
   "metadata": {},
   "outputs": [
    {
     "data": {
      "text/plain": [
       "-158.68092397472688"
      ]
     },
     "execution_count": 36,
     "metadata": {},
     "output_type": "execute_result"
    }
   ],
   "source": [
    "svm.score(X_test, y_test)"
   ]
  },
  {
   "cell_type": "code",
   "execution_count": 37,
   "metadata": {},
   "outputs": [],
   "source": [
    "svm_pred = svm.predict(dias_futuro)"
   ]
  },
  {
   "cell_type": "code",
   "execution_count": 38,
   "metadata": {},
   "outputs": [
    {
     "data": {
      "text/plain": [
       "array([-3.90483214e+02, -2.29366377e+02, -9.98074203e+01,  9.99248006e-01,\n",
       "        7.58592186e+01,  1.27578082e+02,  1.58961430e+02,  1.72814853e+02,\n",
       "        1.71943942e+02,  1.59154287e+02,  1.37251481e+02,  1.09041113e+02,\n",
       "        7.73287746e+01,  4.49200571e+01,  1.46205511e+01, -1.07641524e+01,\n",
       "       -2.84284624e+01, -3.55667881e+01, -2.93735385e+01, -7.04312263e+00,\n",
       "        3.42300504e+01,  9.72515715e+01,  1.84827032e+02,  2.99762022e+02,\n",
       "        4.44862133e+02,  6.22932956e+02,  8.36780082e+02,  1.08920910e+03,\n",
       "        1.38302560e+03,  1.72103518e+03,  2.10604343e+03,  2.54085593e+03,\n",
       "        3.02827829e+03,  3.57111608e+03,  4.17217490e+03,  4.83426034e+03,\n",
       "        5.56017800e+03,  6.35273346e+03,  7.21473231e+03,  8.14898014e+03,\n",
       "        9.15828256e+03,  1.02454451e+04,  1.14132735e+04,  1.26645732e+04,\n",
       "        1.40021498e+04,  1.54288089e+04,  1.69473562e+04,  1.85605972e+04,\n",
       "        2.02713375e+04,  2.20823827e+04,  2.39965384e+04,  2.60166101e+04,\n",
       "        2.81454035e+04,  3.03857242e+04,  3.27403777e+04,  3.52121697e+04,\n",
       "        3.78039057e+04,  4.05183913e+04,  4.33584321e+04,  4.63268338e+04,\n",
       "        4.94264018e+04,  5.26599418e+04,  5.60302594e+04,  5.95401601e+04,\n",
       "        6.31924497e+04,  6.69899335e+04,  7.09354173e+04,  7.50317067e+04,\n",
       "        7.92816071e+04,  8.36879243e+04,  8.82534638e+04,  9.29810311e+04,\n",
       "        9.78734320e+04,  1.02933472e+05,  1.08163957e+05,  1.13567691e+05,\n",
       "        1.19147482e+05,  1.24906134e+05,  1.30846453e+05,  1.36971245e+05,\n",
       "        1.43283315e+05,  1.49785469e+05,  1.56480512e+05])"
      ]
     },
     "execution_count": 38,
     "metadata": {},
     "output_type": "execute_result"
    }
   ],
   "source": [
    "svm_pred"
   ]
  },
  {
   "cell_type": "code",
   "execution_count": 25,
   "metadata": {},
   "outputs": [
    {
     "data": {
      "image/png": "[encoded data removed]",
      "text/plain": [
       "<Figure size 1440x864 with 1 Axes>"
      ]
     },
     "metadata": {},
     "output_type": "display_data"
    }
   ],
   "source": [
    "plt.figure(figsize=(20, 12))\n",
    "plt.plot(dias, casos)\n",
    "plt.plot(dias_futuro,svm_pred, linestyle = 'dashed', color='purple')\n",
    "plt.title('COMPARAÇÃO REAL VS PREVISÃO', size=30)\n",
    "plt.xlabel('Dias desde 27/02/20', size = 30)\n",
    "plt.ylabel('Numero de casos', size = 30)\n",
    "plt.legend(['casos confirmados', 'predição por SVM'],  prop={'size': 20}, loc=\"upper left\")\n",
    "\n",
    "\n",
    "plt.xticks(size=15)\n",
    "plt.yticks(size=15)\n",
    "plt.show()\n"
   ]
  },
  {
   "cell_type": "code",
   "execution_count": 24,
   "metadata": {},
   "outputs": [
    {
     "data": {
      "text/plain": [
       "{'C': 10,\n",
       " 'epsilon': 0.001,\n",
       " 'gamma': 'scale',\n",
       " 'max_iter': -1,\n",
       " 'shrinking': True}"
      ]
     },
     "execution_count": 24,
     "metadata": {},
     "output_type": "execute_result"
    }
   ],
   "source": [
    "svm.best_params_"
   ]
  },
  {
   "cell_type": "code",
   "execution_count": 21,
   "metadata": {},
   "outputs": [
    {
     "data": {
      "text/plain": [
       "array([ 2,  3,  4,  5,  6,  7,  8,  9, 10])"
      ]
     },
     "execution_count": 21,
     "metadata": {},
     "output_type": "execute_result"
    }
   ],
   "source": [
    "np.arange(2,11,1)"
   ]
  },
  {
   "cell_type": "code",
   "execution_count": null,
   "metadata": {},
   "outputs": [],
   "source": []
  }
 ],
 "metadata": {
  "kernelspec": {
   "display_name": "Python 3",
   "language": "python",
   "name": "python3"
  },
  "language_info": {
   "codemirror_mode": {
    "name": "ipython",
    "version": 3
   },
   "file_extension": ".py",
   "mimetype": "text/x-python",
   "name": "python",
   "nbconvert_exporter": "python",
   "pygments_lexer": "ipython3",
   "version": "3.7.6"
  }
 },
 "nbformat": 4,
 "nbformat_minor": 4
}
